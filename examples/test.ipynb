{
 "cells": [
  {
   "cell_type": "code",
   "execution_count": 379,
   "metadata": {},
   "outputs": [],
   "source": [
    "import numpy as np\n",
    "import pickle"
   ]
  },
  {
   "cell_type": "code",
   "execution_count": 380,
   "metadata": {},
   "outputs": [],
   "source": [
    "with open('reses.pickle', 'rb') as f:\n",
    "    res, res2, res1 = pickle.load(f)\n",
    "\n",
    "sigmoid = np.vectorize(lambda x: 1.0 / (1.0 + np.exp(-x)))\n",
    "weights = res[0]\n",
    "hidden_bias = res[1]\n",
    "visible_bias = res[2]\n",
    "positive_visible_state = res[3][0]\n",
    "positive_hidden_state = res[4][0]\n",
    "negative_visible_state = res[5][0]\n",
    "negative_hidden_state = res[6][0]\n",
    "visible_bias_grad = res[7]\n",
    "hidden_bias_grad = res[8]\n",
    "weights_grad = res[9]"
   ]
  },
  {
   "cell_type": "code",
   "execution_count": 383,
   "metadata": {},
   "outputs": [],
   "source": [
    "# np_positive_hidden_state = sigmoid(np.dot(positive_visible_state, weights))\n",
    "# np_negative_visible_state = sigmoid(np.dot(weights, positive_hidden_state))\n",
    "np_positive_hidden_state = sigmoid(np.dot(positive_visible_state, weights))\n",
    "np_negative_visible_state = np.dot(weights, positive_hidden_state)\n",
    "\n",
    "diff_negative_visible_state = np_negative_visible_state-negative_visible_state\n",
    "np_negative_hidden_state = sigmoid(np.dot(np_negative_visible_state, weights))"
   ]
  },
  {
   "cell_type": "code",
   "execution_count": 384,
   "metadata": {},
   "outputs": [
    {
     "data": {
      "text/plain": [
       "array([ 0.0092767 ,  0.02092958,  0.01079351, -0.02217098], dtype=float32)"
      ]
     },
     "execution_count": 384,
     "metadata": {},
     "output_type": "execute_result"
    }
   ],
   "source": [
    "diff_negative_visible_state"
   ]
  },
  {
   "cell_type": "code",
   "execution_count": 385,
   "metadata": {},
   "outputs": [
    {
     "data": {
      "text/plain": [
       "array([0.50005102, 0.50028304])"
      ]
     },
     "execution_count": 385,
     "metadata": {},
     "output_type": "execute_result"
    }
   ],
   "source": [
    "np_negative_hidden_state-negative_hidden_state"
   ]
  },
  {
   "cell_type": "code",
   "execution_count": 386,
   "metadata": {},
   "outputs": [
    {
     "data": {
      "text/plain": [
       "(4, 2)"
      ]
     },
     "execution_count": 386,
     "metadata": {},
     "output_type": "execute_result"
    }
   ],
   "source": [
    "weights.shape"
   ]
  },
  {
   "cell_type": "code",
   "execution_count": 387,
   "metadata": {},
   "outputs": [
    {
     "data": {
      "text/plain": [
       "array([[-0.00474317,  0.0092767 ],\n",
       "       [ 0.00416563,  0.02092958],\n",
       "       [-0.00810387,  0.01079351],\n",
       "       [-0.01120153, -0.02217098]], dtype=float32)"
      ]
     },
     "execution_count": 387,
     "metadata": {},
     "output_type": "execute_result"
    }
   ],
   "source": [
    "weights"
   ]
  },
  {
   "cell_type": "code",
   "execution_count": 388,
   "metadata": {},
   "outputs": [
    {
     "data": {
      "text/plain": [
       "array([[ 0., -1.],\n",
       "       [ 0.,  0.],\n",
       "       [ 0., -1.],\n",
       "       [ 0.,  0.]], dtype=float32)"
      ]
     },
     "execution_count": 388,
     "metadata": {},
     "output_type": "execute_result"
    }
   ],
   "source": [
    "weights_grad"
   ]
  },
  {
   "cell_type": "code",
   "execution_count": 389,
   "metadata": {},
   "outputs": [
    {
     "data": {
      "text/plain": [
       "array([[-0., -1.],\n",
       "       [-0., -0.],\n",
       "       [-0., -1.],\n",
       "       [-0., -0.]], dtype=float32)"
      ]
     },
     "execution_count": 389,
     "metadata": {},
     "output_type": "execute_result"
    }
   ],
   "source": [
    "np_weights_grad = -(np.dot(np.reshape(positive_visible_state, (-1,1)), np.reshape(positive_hidden_state, (1,-1)))-np.dot(np.reshape(negative_visible_state, (-1,1)), np.reshape(negative_hidden_state, (1,-1))))\n",
    "np_weights_grad\n"
   ]
  },
  {
   "cell_type": "code",
   "execution_count": 390,
   "metadata": {},
   "outputs": [
    {
     "data": {
      "text/plain": [
       "array([[-0.,  0.],\n",
       "       [-0., -0.],\n",
       "       [-0.,  0.],\n",
       "       [-0., -0.]], dtype=float32)"
      ]
     },
     "execution_count": 390,
     "metadata": {},
     "output_type": "execute_result"
    }
   ],
   "source": [
    "np_weights_grad-weights_grad"
   ]
  },
  {
   "cell_type": "code",
   "execution_count": 391,
   "metadata": {},
   "outputs": [],
   "source": [
    "weights1 = res1[0]\n",
    "hidden_bias1 = res1[1]\n",
    "visible_bias1 = res1[2]\n",
    "positive_visible_state1 = res1[3][0]\n",
    "positive_hidden_state1 = res1[4][0]\n",
    "negative_visible_state1 = res1[5][0]\n",
    "negative_hidden_state1 = res1[6][0]               \n",
    "visible_bias_grad1 = res1[7]\n",
    "hidden_bias_grad1 = res1[8]\n",
    "weights_grad1 = res1[9]     "
   ]
  },
  {
   "cell_type": "code",
   "execution_count": 392,
   "metadata": {},
   "outputs": [
    {
     "data": {
      "text/plain": [
       "array([[0.0000000e+00, 1.1920929e-07],\n",
       "       [0.0000000e+00, 0.0000000e+00],\n",
       "       [0.0000000e+00, 1.1920929e-07],\n",
       "       [0.0000000e+00, 0.0000000e+00]], dtype=float32)"
      ]
     },
     "execution_count": 392,
     "metadata": {},
     "output_type": "execute_result"
    }
   ],
   "source": [
    "(weights1-weights)*1000+np_weights_grad"
   ]
  },
  {
   "cell_type": "code",
   "execution_count": 393,
   "metadata": {},
   "outputs": [
    {
     "data": {
      "text/plain": [
       "array([[-0.00474317,  0.0102767 ],\n",
       "       [ 0.00416563,  0.02092958],\n",
       "       [-0.00810387,  0.01179351],\n",
       "       [-0.01120153, -0.02217098]], dtype=float32)"
      ]
     },
     "execution_count": 393,
     "metadata": {},
     "output_type": "execute_result"
    }
   ],
   "source": [
    "np_weights1 = weights-np_weights_grad*0.001\n",
    "np_weights1"
   ]
  },
  {
   "cell_type": "code",
   "execution_count": 394,
   "metadata": {},
   "outputs": [
    {
     "data": {
      "text/plain": [
       "array([[0., 0.],\n",
       "       [0., 0.],\n",
       "       [0., 0.],\n",
       "       [0., 0.]], dtype=float32)"
      ]
     },
     "execution_count": 394,
     "metadata": {},
     "output_type": "execute_result"
    }
   ],
   "source": [
    "(weights1-np_weights1)*10"
   ]
  },
  {
   "cell_type": "code",
   "execution_count": 395,
   "metadata": {},
   "outputs": [
    {
     "data": {
      "text/plain": [
       "array([[0.0000000e+00, 1.1920929e-07],\n",
       "       [0.0000000e+00, 0.0000000e+00],\n",
       "       [0.0000000e+00, 1.1920929e-07],\n",
       "       [0.0000000e+00, 0.0000000e+00]], dtype=float32)"
      ]
     },
     "execution_count": 395,
     "metadata": {},
     "output_type": "execute_result"
    }
   ],
   "source": [
    "(weights1-weights)*1000+np_weights_grad"
   ]
  },
  {
   "cell_type": "code",
   "execution_count": 396,
   "metadata": {},
   "outputs": [
    {
     "data": {
      "text/plain": [
       "array([-1.,  0., -1.,  0.], dtype=float32)"
      ]
     },
     "execution_count": 396,
     "metadata": {},
     "output_type": "execute_result"
    }
   ],
   "source": [
    "visible_bias_grad"
   ]
  },
  {
   "cell_type": "code",
   "execution_count": 399,
   "metadata": {},
   "outputs": [
    {
     "data": {
      "text/plain": [
       "array([ 2., -0.,  2., -0.], dtype=float32)"
      ]
     },
     "execution_count": 399,
     "metadata": {},
     "output_type": "execute_result"
    }
   ],
   "source": [
    "np_visible_bias_grad = ((visible_bias-positive_visible_state)-(visible_bias-negative_visible_state))\n",
    "np_visible_bias_grad-visible_bias_grad"
   ]
  },
  {
   "cell_type": "code",
   "execution_count": 372,
   "metadata": {},
   "outputs": [
    {
     "data": {
      "text/plain": [
       "array([-0., -0.], dtype=float32)"
      ]
     },
     "execution_count": 372,
     "metadata": {},
     "output_type": "execute_result"
    }
   ],
   "source": [
    "np_hidden_bias_grad = -(positive_hidden_state-negative_hidden_state)\n",
    "np_hidden_bias_grad-hidden_bias_grad"
   ]
  },
  {
   "cell_type": "code",
   "execution_count": 373,
   "metadata": {},
   "outputs": [
    {
     "data": {
      "text/plain": [
       "array([-0., -0.], dtype=float32)"
      ]
     },
     "execution_count": 373,
     "metadata": {},
     "output_type": "execute_result"
    }
   ],
   "source": [
    "np_hidden_bias_grad"
   ]
  },
  {
   "cell_type": "code",
   "execution_count": 374,
   "metadata": {},
   "outputs": [
    {
     "data": {
      "text/plain": [
       "array([0., 0.], dtype=float32)"
      ]
     },
     "execution_count": 374,
     "metadata": {},
     "output_type": "execute_result"
    }
   ],
   "source": [
    "hidden_bias1"
   ]
  },
  {
   "cell_type": "code",
   "execution_count": 375,
   "metadata": {},
   "outputs": [
    {
     "data": {
      "text/plain": [
       "array([ 0.00044604, -0.00044989,  0.00045007, -0.00044914], dtype=float32)"
      ]
     },
     "execution_count": 375,
     "metadata": {},
     "output_type": "execute_result"
    }
   ],
   "source": [
    "visible_bias1"
   ]
  },
  {
   "cell_type": "code",
   "execution_count": 377,
   "metadata": {},
   "outputs": [],
   "source": [
    "np_visible_bias1 = visible_bias-np_visible_bias_grad*0.001"
   ]
  },
  {
   "cell_type": "code",
   "execution_count": 378,
   "metadata": {},
   "outputs": [
    {
     "data": {
      "text/plain": [
       "array([ 0.00045, -0.00045,  0.00045, -0.00045], dtype=float32)"
      ]
     },
     "execution_count": 378,
     "metadata": {},
     "output_type": "execute_result"
    }
   ],
   "source": [
    "np_visible_bias1 - np_visible_bias1*0.1"
   ]
  },
  {
   "cell_type": "code",
   "execution_count": null,
   "metadata": {},
   "outputs": [],
   "source": []
  }
 ],
 "metadata": {
  "kernelspec": {
   "display_name": "Python 3",
   "language": "python",
   "name": "python3"
  },
  "language_info": {
   "codemirror_mode": {
    "name": "ipython",
    "version": 3
   },
   "file_extension": ".py",
   "mimetype": "text/x-python",
   "name": "python",
   "nbconvert_exporter": "python",
   "pygments_lexer": "ipython3",
   "version": "3.6.4"
  }
 },
 "nbformat": 4,
 "nbformat_minor": 1
}
