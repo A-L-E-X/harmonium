{
 "cells": [
  {
   "cell_type": "code",
   "execution_count": 50,
   "metadata": {},
   "outputs": [],
   "source": [
    "import numpy as np\n",
    "import pickle"
   ]
  },
  {
   "cell_type": "code",
   "execution_count": 51,
   "metadata": {},
   "outputs": [],
   "source": [
    "with open('reses.pickle', 'rb') as f:\n",
    "   res = pickle.load(f)\n",
    "\n",
    "sigmoid = np.vectorize(lambda x: 1.0 / (1.0 + np.exp(-x)))\n",
    "weights = res[0]['weights']\n",
    "hidden_bias = res[0]['hidden_bias']\n",
    "visible_bias = res[0]['visible_bias']\n",
    "positive_visible_state = res[0]['positive_visible_state'][0]\n",
    "positive_hidden_state = res[0]['positive_hidden_state'][0]\n",
    "negative_visible_state = res[0]['negative_visible_state'][0]\n",
    "negative_hidden_state = res[0]['negative_hidden_state'][0]\n",
    "visible_bias_grad = res[0]['grad_Variable:0']\n",
    "hidden_bias_grad = res[0]['grad_Variable_1:0']\n",
    "weights_grad = res[0]['grad_Variable_2:0']"
   ]
  },
  {
   "cell_type": "code",
   "execution_count": 37,
   "metadata": {},
   "outputs": [],
   "source": [
    "# np_positive_hidden_state = sigmoid(np.dot(positive_visible_state, weights))\n",
    "# np_negative_visible_state = sigmoid(np.dot(weights, positive_hidden_state))\n",
    "np_positive_hidden_state = sigmoid(np.dot(positive_visible_state, weights))\n",
    "np_negative_visible_state = np.dot(weights, positive_hidden_state)\n",
    "\n",
    "diff_negative_visible_state = np_negative_visible_state-negative_visible_state\n",
    "np_negative_hidden_state = sigmoid(np.dot(np_negative_visible_state, weights))"
   ]
  },
  {
   "cell_type": "code",
   "execution_count": 38,
   "metadata": {},
   "outputs": [
    {
     "data": {
      "text/plain": [
       "array([0., 0., 0., 0.], dtype=float32)"
      ]
     },
     "execution_count": 38,
     "metadata": {},
     "output_type": "execute_result"
    }
   ],
   "source": [
    "diff_negative_visible_state"
   ]
  },
  {
   "cell_type": "code",
   "execution_count": 39,
   "metadata": {},
   "outputs": [
    {
     "data": {
      "text/plain": [
       "array([-0.4999936 ,  0.49997261])"
      ]
     },
     "execution_count": 39,
     "metadata": {},
     "output_type": "execute_result"
    }
   ],
   "source": [
    "np_negative_hidden_state-negative_hidden_state"
   ]
  },
  {
   "cell_type": "code",
   "execution_count": 40,
   "metadata": {},
   "outputs": [
    {
     "data": {
      "text/plain": [
       "(4, 2)"
      ]
     },
     "execution_count": 40,
     "metadata": {},
     "output_type": "execute_result"
    }
   ],
   "source": [
    "weights.shape"
   ]
  },
  {
   "cell_type": "code",
   "execution_count": 41,
   "metadata": {},
   "outputs": [
    {
     "data": {
      "text/plain": [
       "array([[ 0.00441514, -0.01675525],\n",
       "       [ 0.00081398, -0.00534988],\n",
       "       [ 0.00209971, -0.016973  ],\n",
       "       [ 0.00102519,  0.00430804]], dtype=float32)"
      ]
     },
     "execution_count": 41,
     "metadata": {},
     "output_type": "execute_result"
    }
   ],
   "source": [
    "weights"
   ]
  },
  {
   "cell_type": "code",
   "execution_count": 42,
   "metadata": {},
   "outputs": [
    {
     "data": {
      "text/plain": [
       "array([[ 9.9558485e-01,  0.0000000e+00],\n",
       "       [-8.1397675e-04,  0.0000000e+00],\n",
       "       [ 9.9790031e-01,  0.0000000e+00],\n",
       "       [ 4.9897480e-01,  0.0000000e+00]], dtype=float32)"
      ]
     },
     "execution_count": 42,
     "metadata": {},
     "output_type": "execute_result"
    }
   ],
   "source": [
    "weights_grad"
   ]
  },
  {
   "cell_type": "code",
   "execution_count": 43,
   "metadata": {},
   "outputs": [
    {
     "data": {
      "text/plain": [
       "array([[-9.9558485e-01, -0.0000000e+00],\n",
       "       [ 8.1397675e-04, -0.0000000e+00],\n",
       "       [-9.9790031e-01, -0.0000000e+00],\n",
       "       [-9.9897480e-01, -0.0000000e+00]], dtype=float32)"
      ]
     },
     "execution_count": 43,
     "metadata": {},
     "output_type": "execute_result"
    }
   ],
   "source": [
    "np_weights_grad = -(np.dot(np.reshape(positive_visible_state, (-1,1)), np.reshape(positive_hidden_state, (1,-1)))-np.dot(np.reshape(negative_visible_state, (-1,1)), np.reshape(negative_hidden_state, (1,-1))))\n",
    "np_weights_grad\n"
   ]
  },
  {
   "cell_type": "code",
   "execution_count": 44,
   "metadata": {},
   "outputs": [
    {
     "data": {
      "text/plain": [
       "array([[ 0. ,  0. ],\n",
       "       [ 0. ,  0. ],\n",
       "       [ 0. ,  0. ],\n",
       "       [-0.5,  0. ]], dtype=float32)"
      ]
     },
     "execution_count": 44,
     "metadata": {},
     "output_type": "execute_result"
    }
   ],
   "source": [
    "np_weights_grad+weights_grad"
   ]
  },
  {
   "cell_type": "code",
   "execution_count": 45,
   "metadata": {},
   "outputs": [],
   "source": [
    "weights1 = res[1]['weights']\n",
    "hidden_bias1 = res[1]['hidden_bias']\n",
    "visible_bias1 = res[1]['visible_bias']\n",
    "positive_visible_state1 = res[1]['positive_visible_state'][0]\n",
    "positive_hidden_state1 = res[1]['positive_hidden_state'][0]\n",
    "negative_visible_state1 = res[1]['negative_visible_state'][0]\n",
    "negative_hidden_state1 = res[1]['negative_hidden_state'][0]\n",
    "visible_bias_grad1 = res[1]['grad_Variable:0']\n",
    "hidden_bias_grad1 = res[1]['grad_Variable_1:0']\n",
    "weights_grad1 = res[1]['grad_Variable_2:0']"
   ]
  },
  {
   "cell_type": "code",
   "execution_count": 46,
   "metadata": {},
   "outputs": [
    {
     "data": {
      "text/plain": [
       "array([[ 5.9604645e-08,  0.0000000e+00],\n",
       "       [-8.1490725e-10,  0.0000000e+00],\n",
       "       [-5.9604645e-08,  0.0000000e+00],\n",
       "       [ 5.0000000e-01,  0.0000000e+00]], dtype=float32)"
      ]
     },
     "execution_count": 46,
     "metadata": {},
     "output_type": "execute_result"
    }
   ],
   "source": [
    "(weights1-weights)*1000-np_weights_grad"
   ]
  },
  {
   "cell_type": "code",
   "execution_count": 47,
   "metadata": {},
   "outputs": [
    {
     "data": {
      "text/plain": [
       "array([[ 0.00541073, -0.01675525],\n",
       "       [ 0.00081316, -0.00534988],\n",
       "       [ 0.00309761, -0.016973  ],\n",
       "       [ 0.00202416,  0.00430804]], dtype=float32)"
      ]
     },
     "execution_count": 47,
     "metadata": {},
     "output_type": "execute_result"
    }
   ],
   "source": [
    "np_weights1 = weights-np_weights_grad*0.001\n",
    "np_weights1"
   ]
  },
  {
   "cell_type": "code",
   "execution_count": 48,
   "metadata": {},
   "outputs": [
    {
     "data": {
      "text/plain": [
       "array([[-1.9911695e-02,  0.0000000e+00],\n",
       "       [ 1.6279519e-05,  0.0000000e+00],\n",
       "       [-1.9958004e-02,  0.0000000e+00],\n",
       "       [-1.4979497e-02,  0.0000000e+00]], dtype=float32)"
      ]
     },
     "execution_count": 48,
     "metadata": {},
     "output_type": "execute_result"
    }
   ],
   "source": [
    "(weights1-np_weights1)*10"
   ]
  },
  {
   "cell_type": "code",
   "execution_count": 49,
   "metadata": {},
   "outputs": [
    {
     "data": {
      "text/plain": [
       "array([[ 5.9604645e-08,  0.0000000e+00],\n",
       "       [-8.1490725e-10,  0.0000000e+00],\n",
       "       [-5.9604645e-08,  0.0000000e+00],\n",
       "       [ 5.0000000e-01,  0.0000000e+00]], dtype=float32)"
      ]
     },
     "execution_count": 49,
     "metadata": {},
     "output_type": "execute_result"
    }
   ],
   "source": [
    "(weights1-weights)*1000-np_weights_grad"
   ]
  },
  {
   "cell_type": "code",
   "execution_count": 26,
   "metadata": {},
   "outputs": [
    {
     "data": {
      "text/plain": [
       "array([ 9.9558485e-01, -8.1397675e-04,  9.9790031e-01,  4.9897480e-01],\n",
       "      dtype=float32)"
      ]
     },
     "execution_count": 26,
     "metadata": {},
     "output_type": "execute_result"
    }
   ],
   "source": [
    "visible_bias_grad"
   ]
  },
  {
   "cell_type": "code",
   "execution_count": 28,
   "metadata": {},
   "outputs": [
    {
     "data": {
      "text/plain": [
       "array([ 0. ,  0. ,  0. , -0.5], dtype=float32)"
      ]
     },
     "execution_count": 28,
     "metadata": {},
     "output_type": "execute_result"
    }
   ],
   "source": [
    "np_visible_bias_grad = ((visible_bias-positive_visible_state)-(visible_bias-negative_visible_state))\n",
    "np_visible_bias_grad+visible_bias_grad"
   ]
  },
  {
   "cell_type": "code",
   "execution_count": 29,
   "metadata": {},
   "outputs": [
    {
     "data": {
      "text/plain": [
       "array([-0., -0.], dtype=float32)"
      ]
     },
     "execution_count": 29,
     "metadata": {},
     "output_type": "execute_result"
    }
   ],
   "source": [
    "np_hidden_bias_grad = -(positive_hidden_state-negative_hidden_state)\n",
    "np_hidden_bias_grad-hidden_bias_grad"
   ]
  },
  {
   "cell_type": "code",
   "execution_count": 30,
   "metadata": {},
   "outputs": [
    {
     "data": {
      "text/plain": [
       "array([-0., -0.], dtype=float32)"
      ]
     },
     "execution_count": 30,
     "metadata": {},
     "output_type": "execute_result"
    }
   ],
   "source": [
    "np_hidden_bias_grad"
   ]
  },
  {
   "cell_type": "code",
   "execution_count": 31,
   "metadata": {},
   "outputs": [
    {
     "data": {
      "text/plain": [
       "array([0., 0.], dtype=float32)"
      ]
     },
     "execution_count": 31,
     "metadata": {},
     "output_type": "execute_result"
    }
   ],
   "source": [
    "hidden_bias1"
   ]
  },
  {
   "cell_type": "code",
   "execution_count": 32,
   "metadata": {},
   "outputs": [
    {
     "data": {
      "text/plain": [
       "array([-9.955849e-04,  8.139768e-07, -9.979004e-04, -4.989748e-04],\n",
       "      dtype=float32)"
      ]
     },
     "execution_count": 32,
     "metadata": {},
     "output_type": "execute_result"
    }
   ],
   "source": [
    "visible_bias1"
   ]
  },
  {
   "cell_type": "code",
   "execution_count": 33,
   "metadata": {},
   "outputs": [],
   "source": [
    "np_visible_bias1 = visible_bias-np_visible_bias_grad*0.001"
   ]
  },
  {
   "cell_type": "code",
   "execution_count": 34,
   "metadata": {},
   "outputs": [
    {
     "data": {
      "text/plain": [
       "array([ 8.9602638e-04, -7.3257911e-07,  8.9811033e-04,  8.9907739e-04],\n",
       "      dtype=float32)"
      ]
     },
     "execution_count": 34,
     "metadata": {},
     "output_type": "execute_result"
    }
   ],
   "source": [
    "np_visible_bias1 - np_visible_bias1*0.1"
   ]
  },
  {
   "cell_type": "code",
   "execution_count": null,
   "metadata": {},
   "outputs": [],
   "source": []
  }
 ],
 "metadata": {
  "kernelspec": {
   "display_name": "Python 3",
   "language": "python",
   "name": "python3"
  },
  "language_info": {
   "codemirror_mode": {
    "name": "ipython",
    "version": 3
   },
   "file_extension": ".py",
   "mimetype": "text/x-python",
   "name": "python",
   "nbconvert_exporter": "python",
   "pygments_lexer": "ipython3",
   "version": "3.6.4"
  }
 },
 "nbformat": 4,
 "nbformat_minor": 1
}
