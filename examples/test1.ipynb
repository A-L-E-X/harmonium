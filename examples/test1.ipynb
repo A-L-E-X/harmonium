{
 "cells": [
  {
   "cell_type": "code",
   "execution_count": 31,
   "metadata": {},
   "outputs": [],
   "source": [
    "import numpy as np\n",
    "import pickle"
   ]
  },
  {
   "cell_type": "code",
   "execution_count": 32,
   "metadata": {},
   "outputs": [],
   "source": [
    "np.set_printoptions(precision=6, suppress=True)\n"
   ]
  },
  {
   "cell_type": "code",
   "execution_count": 33,
   "metadata": {},
   "outputs": [],
   "source": [
    "with open('reses.pickle', 'rb') as f:\n",
    "   res = pickle.load(f)\n",
    "\n",
    "sigmoid = np.vectorize(lambda x: 1.0 / (1.0 + np.exp(-x)))\n",
    "weights = res[0]['weights']\n",
    "hidden_bias = res[0]['hidden_bias']\n",
    "visible_bias = res[0]['visible_bias']\n",
    "positive_visible_state = res[0]['positive_visible_state'][0]\n",
    "positive_hidden_state = res[0]['positive_hidden_state'][0]\n",
    "negative_visible_state = res[0]['negative_visible_state'][0]\n",
    "negative_hidden_state = res[0]['negative_hidden_state'][0]\n",
    "visible_bias_grad = res[0]['grad_visible_bias:0']\n",
    "hidden_bias_grad = res[0]['grad_hidden_bias:0']\n",
    "weights_grad = res[0]['grad_weights:0']\n",
    "energy = res[0]['energy']\n",
    "\n",
    "weights1 = res[1]['weights']\n",
    "hidden_bias1 = res[1]['hidden_bias']\n",
    "visible_bias1 = res[1]['visible_bias']\n",
    "positive_visible_state1 = res[1]['positive_visible_state'][0]\n",
    "positive_hidden_state1 = res[1]['positive_hidden_state'][0]\n",
    "negative_visible_state1 = res[1]['negative_visible_state'][0]\n",
    "negative_hidden_state1 = res[1]['negative_hidden_state'][0]\n",
    "visible_bias_grad1 = res[1]['grad_visible_bias:0']\n",
    "hidden_bias_grad1 = res[1]['grad_hidden_bias:0']\n",
    "weights_grad1 = res[1]['grad_weights:0']\n",
    "energy1 = res[1]['energy']"
   ]
  },
  {
   "cell_type": "code",
   "execution_count": 34,
   "metadata": {},
   "outputs": [],
   "source": [
    "# np_positive_hidden_state = sigmoid(np.dot(positive_visible_state, weights))\n",
    "# np_negative_visible_state = sigmoid(np.dot(weights, positive_hidden_state))\n",
    "np_positive_hidden_state = sigmoid(np.dot(positive_visible_state, weights))\n",
    "np_negative_visible_state = np.dot(weights, positive_hidden_state)\n",
    "\n",
    "diff_negative_visible_state = np_negative_visible_state-negative_visible_state\n",
    "np_negative_hidden_state = sigmoid(np.dot(np_negative_visible_state, weights))"
   ]
  },
  {
   "cell_type": "code",
   "execution_count": 56,
   "metadata": {},
   "outputs": [
    {
     "data": {
      "text/plain": [
       "dict_keys(['weights', 'visible_bias', 'hidden_bias', 'grad_visible_bias:0', 'grad_hidden_bias:0', 'grad_weights:0', 'positive_visible_state', 'positive_hidden_state', 'negative_visible_state', 'negative_hidden_state', 'energy', 'global_step'])"
      ]
     },
     "execution_count": 56,
     "metadata": {},
     "output_type": "execute_result"
    }
   ],
   "source": [
    "res[0].keys()"
   ]
  },
  {
   "cell_type": "code",
   "execution_count": 36,
   "metadata": {},
   "outputs": [
    {
     "data": {
      "text/plain": [
       "array([0.497298, 0.499052], dtype=float32)"
      ]
     },
     "execution_count": 36,
     "metadata": {},
     "output_type": "execute_result"
    }
   ],
   "source": [
    "positive_hidden_state"
   ]
  },
  {
   "cell_type": "code",
   "execution_count": 37,
   "metadata": {},
   "outputs": [
    {
     "data": {
      "text/plain": [
       "(4, 2)"
      ]
     },
     "execution_count": 37,
     "metadata": {},
     "output_type": "execute_result"
    }
   ],
   "source": [
    "weights.shape"
   ]
  },
  {
   "cell_type": "code",
   "execution_count": 38,
   "metadata": {},
   "outputs": [
    {
     "data": {
      "text/plain": [
       "array([[ 0.004213,  0.000515],\n",
       "       [-0.003158, -0.01757 ],\n",
       "       [-0.010234,  0.009852],\n",
       "       [-0.004789, -0.014161]], dtype=float32)"
      ]
     },
     "execution_count": 38,
     "metadata": {},
     "output_type": "execute_result"
    }
   ],
   "source": [
    "weights"
   ]
  },
  {
   "cell_type": "code",
   "execution_count": 39,
   "metadata": {},
   "outputs": [
    {
     "data": {
      "text/plain": [
       "array([[ 0.248473,  0.251854],\n",
       "       [-0.247845, -0.247392],\n",
       "       [ 0.248791,  0.252172],\n",
       "       [ 0.000694,  0.002024]], dtype=float32)"
      ]
     },
     "execution_count": 39,
     "metadata": {},
     "output_type": "execute_result"
    }
   ],
   "source": [
    "weights_grad"
   ]
  },
  {
   "cell_type": "code",
   "execution_count": 40,
   "metadata": {},
   "outputs": [
    {
     "data": {
      "text/plain": [
       "array([[ 0.248473,  0.251854],\n",
       "       [-0.247845, -0.247392],\n",
       "       [ 0.248791,  0.252172],\n",
       "       [ 0.000694,  0.002024]], dtype=float32)"
      ]
     },
     "execution_count": 40,
     "metadata": {},
     "output_type": "execute_result"
    }
   ],
   "source": [
    "positive_visible_state = res[0]['positive_visible_state'][0]\n",
    "positive_hidden_state = res[0]['positive_hidden_state'][0]\n",
    "negative_visible_state = res[0]['negative_visible_state'][0]\n",
    "negative_hidden_state = res[0]['negative_hidden_state'][0]\n",
    "\n",
    "np_weights_grad1 = np.dot(np.reshape(positive_visible_state, (-1,1)), np.reshape(positive_hidden_state, (1,-1)))-np.dot(np.reshape(negative_visible_state, (-1,1)), np.reshape(negative_hidden_state, (1,-1)))\n",
    "positive_visible_state = res[0]['positive_visible_state'][1]\n",
    "positive_hidden_state = res[0]['positive_hidden_state'][1]\n",
    "negative_visible_state = res[0]['negative_visible_state'][1]\n",
    "negative_hidden_state = res[0]['negative_hidden_state'][1]\n",
    "np_weights_grad2 = np.dot(np.reshape(positive_visible_state, (-1,1)), np.reshape(positive_hidden_state, (1,-1)))-np.dot(np.reshape(negative_visible_state, (-1,1)), np.reshape(negative_hidden_state, (1,-1)))\n",
    "\n",
    "np_weights_grad = (np_weights_grad1+np_weights_grad2)/2\n",
    "np_weights_grad\n"
   ]
  },
  {
   "cell_type": "code",
   "execution_count": 41,
   "metadata": {},
   "outputs": [
    {
     "data": {
      "text/plain": [
       "array([[-0.,  0.],\n",
       "       [ 0.,  0.],\n",
       "       [-0.,  0.],\n",
       "       [ 0.,  0.]], dtype=float32)"
      ]
     },
     "execution_count": 41,
     "metadata": {},
     "output_type": "execute_result"
    }
   ],
   "source": [
    "np_weights_grad-weights_grad"
   ]
  },
  {
   "cell_type": "code",
   "execution_count": 43,
   "metadata": {},
   "outputs": [],
   "source": [
    "weights1 = res[1]['weights']\n",
    "hidden_bias1 = res[1]['hidden_bias']\n",
    "visible_bias1 = res[1]['visible_bias']\n",
    "positive_visible_state1 = res[1]['positive_visible_state'][0]\n",
    "positive_hidden_state1 = res[1]['positive_hidden_state'][0]\n",
    "negative_visible_state1 = res[1]['negative_visible_state'][0]\n",
    "negative_hidden_state1 = res[1]['negative_hidden_state'][0]\n",
    "visible_bias_grad1 = res[1]['grad_visible_bias:0']\n",
    "hidden_bias_grad1 = res[1]['grad_hidden_bias:0']\n",
    "weights_grad1 = res[1]['grad_weights:0']\n",
    "energy1 = res[1]['energy']"
   ]
  },
  {
   "cell_type": "code",
   "execution_count": 47,
   "metadata": {},
   "outputs": [
    {
     "data": {
      "text/plain": [
       "array([[-0.,  0.],\n",
       "       [ 0.,  0.],\n",
       "       [-0., -0.],\n",
       "       [ 0., -0.]], dtype=float32)"
      ]
     },
     "execution_count": 47,
     "metadata": {},
     "output_type": "execute_result"
    }
   ],
   "source": [
    "(weights1-weights)*1000+np_weights_grad\n"
   ]
  },
  {
   "cell_type": "code",
   "execution_count": 48,
   "metadata": {},
   "outputs": [
    {
     "data": {
      "text/plain": [
       "array([[ 0.003965,  0.000264],\n",
       "       [-0.00291 , -0.017323],\n",
       "       [-0.010482,  0.0096  ],\n",
       "       [-0.00479 , -0.014163]], dtype=float32)"
      ]
     },
     "execution_count": 48,
     "metadata": {},
     "output_type": "execute_result"
    }
   ],
   "source": [
    "np_weights1 = weights-np_weights_grad*0.001\n",
    "np_weights1"
   ]
  },
  {
   "cell_type": "code",
   "execution_count": 49,
   "metadata": {},
   "outputs": [
    {
     "data": {
      "text/plain": [
       "array([[ 0.,  0.],\n",
       "       [ 0.,  0.],\n",
       "       [-0.,  0.],\n",
       "       [ 0.,  0.]], dtype=float32)"
      ]
     },
     "execution_count": 49,
     "metadata": {},
     "output_type": "execute_result"
    }
   ],
   "source": [
    "(weights1-np_weights1)*10"
   ]
  },
  {
   "cell_type": "code",
   "execution_count": 50,
   "metadata": {},
   "outputs": [
    {
     "data": {
      "text/plain": [
       "array([[-0.496946, -0.503709],\n",
       "       [ 0.495691,  0.494785],\n",
       "       [-0.497583, -0.504344],\n",
       "       [-0.001387, -0.004047]], dtype=float32)"
      ]
     },
     "execution_count": 50,
     "metadata": {},
     "output_type": "execute_result"
    }
   ],
   "source": [
    "(weights1-weights)*1000-np_weights_grad"
   ]
  },
  {
   "cell_type": "code",
   "execution_count": 51,
   "metadata": {},
   "outputs": [
    {
     "data": {
      "text/plain": [
       "array([ 0.499411, -0.497422,  0.50005 ,  0.002357], dtype=float32)"
      ]
     },
     "execution_count": 51,
     "metadata": {},
     "output_type": "execute_result"
    }
   ],
   "source": [
    "visible_bias_grad"
   ]
  },
  {
   "cell_type": "code",
   "execution_count": 53,
   "metadata": {},
   "outputs": [
    {
     "data": {
      "text/plain": [
       "array([0. , 0. , 0. , 0.5], dtype=float32)"
      ]
     },
     "execution_count": 53,
     "metadata": {},
     "output_type": "execute_result"
    }
   ],
   "source": [
    "np_visible_bias_grad = ((visible_bias-positive_visible_state)-(visible_bias-negative_visible_state))\n",
    "np_visible_bias_grad+visible_bias_grad"
   ]
  },
  {
   "cell_type": "code",
   "execution_count": 54,
   "metadata": {},
   "outputs": [
    {
     "data": {
      "text/plain": [
       "array([ 0.000128, -0.008715], dtype=float32)"
      ]
     },
     "execution_count": 54,
     "metadata": {},
     "output_type": "execute_result"
    }
   ],
   "source": [
    "np_hidden_bias_grad = -(positive_hidden_state-negative_hidden_state)\n",
    "np_hidden_bias_grad-hidden_bias_grad"
   ]
  },
  {
   "cell_type": "code",
   "execution_count": 55,
   "metadata": {},
   "outputs": [
    {
     "data": {
      "text/plain": [
       "array([-0.000235, -0.005243], dtype=float32)"
      ]
     },
     "execution_count": 55,
     "metadata": {},
     "output_type": "execute_result"
    }
   ],
   "source": [
    "np_hidden_bias_grad"
   ]
  },
  {
   "cell_type": "code",
   "execution_count": 31,
   "metadata": {},
   "outputs": [
    {
     "data": {
      "text/plain": [
       "array([0., 0.], dtype=float32)"
      ]
     },
     "execution_count": 31,
     "metadata": {},
     "output_type": "execute_result"
    }
   ],
   "source": [
    "hidden_bias1"
   ]
  },
  {
   "cell_type": "code",
   "execution_count": 32,
   "metadata": {},
   "outputs": [
    {
     "data": {
      "text/plain": [
       "array([-9.955849e-04,  8.139768e-07, -9.979004e-04, -4.989748e-04],\n",
       "      dtype=float32)"
      ]
     },
     "execution_count": 32,
     "metadata": {},
     "output_type": "execute_result"
    }
   ],
   "source": [
    "visible_bias1"
   ]
  },
  {
   "cell_type": "code",
   "execution_count": 33,
   "metadata": {},
   "outputs": [],
   "source": [
    "np_visible_bias1 = visible_bias-np_visible_bias_grad*0.001"
   ]
  },
  {
   "cell_type": "code",
   "execution_count": 34,
   "metadata": {},
   "outputs": [
    {
     "data": {
      "text/plain": [
       "array([ 8.9602638e-04, -7.3257911e-07,  8.9811033e-04,  8.9907739e-04],\n",
       "      dtype=float32)"
      ]
     },
     "execution_count": 34,
     "metadata": {},
     "output_type": "execute_result"
    }
   ],
   "source": [
    "np_visible_bias1 - np_visible_bias1*0.1"
   ]
  },
  {
   "cell_type": "code",
   "execution_count": null,
   "metadata": {},
   "outputs": [],
   "source": []
  }
 ],
 "metadata": {
  "kernelspec": {
   "display_name": "Python 3",
   "language": "python",
   "name": "python3"
  },
  "language_info": {
   "codemirror_mode": {
    "name": "ipython",
    "version": 3
   },
   "file_extension": ".py",
   "mimetype": "text/x-python",
   "name": "python",
   "nbconvert_exporter": "python",
   "pygments_lexer": "ipython3",
   "version": "3.6.4"
  }
 },
 "nbformat": 4,
 "nbformat_minor": 1
}
